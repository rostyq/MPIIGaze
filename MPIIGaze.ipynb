{
 "cells": [
  {
   "cell_type": "code",
   "execution_count": 1,
   "metadata": {},
   "outputs": [],
   "source": [
    "from scipy.io import loadmat\n",
    "import numpy as np\n",
    "from PIL import Image\n",
    "import glob\n",
    "from utils import *"
   ]
  },
  {
   "cell_type": "markdown",
   "metadata": {},
   "source": [
    "## Prepare data"
   ]
  },
  {
   "cell_type": "markdown",
   "metadata": {},
   "source": [
    "### Gather Data from Structure"
   ]
  },
  {
   "cell_type": "code",
   "execution_count": 2,
   "metadata": {},
   "outputs": [],
   "source": [
    "mat_files = glob.glob('./dataset/Data/Normalized/**/*.mat', recursive=True)\n",
    "mat_files.sort()"
   ]
  },
  {
   "cell_type": "code",
   "execution_count": 3,
   "metadata": {},
   "outputs": [],
   "source": [
    "indices, IMG, POSE, GAZE = gather_data('./dataset/Data/Normalized')"
   ]
  },
  {
   "cell_type": "code",
   "execution_count": 4,
   "metadata": {},
   "outputs": [],
   "source": [
    "GAZE = gaze3Dto2D(GAZE)\n",
    "POSE = pose3Dto2D(POSE)"
   ]
  },
  {
   "cell_type": "code",
   "execution_count": 5,
   "metadata": {},
   "outputs": [
    {
     "data": {
      "text/plain": [
       "((213658, 36, 60, 1), (213658, 2), (213658, 2), (213658, 3))"
      ]
     },
     "execution_count": 5,
     "metadata": {},
     "output_type": "execute_result"
    }
   ],
   "source": [
    "IMG.shape, POSE.shape, GAZE.shape, indices.shape"
   ]
  },
  {
   "cell_type": "markdown",
   "metadata": {},
   "source": [
    "### Check"
   ]
  },
  {
   "cell_type": "code",
   "execution_count": 6,
   "metadata": {},
   "outputs": [
    {
     "name": "stdout",
     "output_type": "stream",
     "text": [
      "['p00' 'day01' '0001.jpg']\n"
     ]
    },
    {
     "data": {
      "image/png": "[encoded data removed]",
      "text/plain": [
       "<PIL.Image.Image image mode=L size=60x36 at 0x1129C5518>"
      ]
     },
     "execution_count": 6,
     "metadata": {},
     "output_type": "execute_result"
    }
   ],
   "source": [
    "i = 0\n",
    "print(indices[i])\n",
    "Image.fromarray(IMG[i].reshape((36, 60)))"
   ]
  },
  {
   "cell_type": "markdown",
   "metadata": {},
   "source": [
    "## Create NN"
   ]
  },
  {
   "cell_type": "code",
   "execution_count": 7,
   "metadata": {},
   "outputs": [
    {
     "name": "stderr",
     "output_type": "stream",
     "text": [
      "Using TensorFlow backend.\n"
     ]
    }
   ],
   "source": [
    "from keras.layers import Input, Conv2D, MaxPool2D, Dense, Concatenate, Flatten\n",
    "from keras.initializers import RandomNormal\n",
    "from keras.models import Model\n",
    "from keras import backend as K\n",
    "from keras.callbacks import TensorBoard\n",
    "from keras.models import Model"
   ]
  },
  {
   "cell_type": "markdown",
   "metadata": {},
   "source": [
    "### Layers"
   ]
  },
  {
   "cell_type": "code",
   "execution_count": 8,
   "metadata": {},
   "outputs": [],
   "source": [
    "# input\n",
    "input_img = Input(shape=(36, 60, 1), name='InputNormalizedImage')\n",
    "input_pose = Input(shape=(2,), name='InputHeadPose')\n",
    "\n",
    "# convolutional\n",
    "conv1 = Conv2D(filters=20,\n",
    "               kernel_size=(5, 5),\n",
    "               strides=(1, 1),\n",
    "               kernel_initializer=RandomNormal(mean=0.0, stddev=0.1, seed=None),\n",
    "               bias_initializer='zeros',\n",
    "               name='conv1'\n",
    "              )(input_img)\n",
    "pool1 = MaxPool2D(pool_size=(2, 2),\n",
    "                  strides=(2, 2),\n",
    "                  padding='valid',\n",
    "                  name='maxpool1'\n",
    "                 )(conv1)\n",
    "conv2 = Conv2D(filters=50,\n",
    "               kernel_size=(5, 5),\n",
    "               strides=(1, 1),\n",
    "               kernel_initializer=RandomNormal(mean=0.0, stddev=0.01, seed=None),\n",
    "               bias_initializer='zeros',\n",
    "               name='conv2'\n",
    "              )(pool1)\n",
    "pool2 = MaxPool2D(pool_size=(2, 2),\n",
    "                  strides=(2, 2),\n",
    "                  padding='valid',\n",
    "                  name='maxpool2'\n",
    "                 )(conv2)\n",
    "\n",
    "flatt = Flatten(name='flatt')(pool2)\n",
    "\n",
    "# inner product 1\n",
    "dense1 = Dense(units=500,\n",
    "              activation='relu',\n",
    "              kernel_initializer='glorot_uniform',\n",
    "              bias_initializer='zeros',\n",
    "              name='ip1'\n",
    "             )(flatt)\n",
    "\n",
    "# concatanate with head pose\n",
    "cat = Concatenate(axis=-1, name='concat')([dense1, input_pose])\n",
    "\n",
    "# inner product 2\n",
    "dense2 = Dense(units=2,\n",
    "              kernel_initializer='glorot_uniform',\n",
    "              bias_initializer='zeros',\n",
    "              name='ip2'\n",
    "             )(cat)"
   ]
  },
  {
   "cell_type": "markdown",
   "metadata": {},
   "source": [
    "### Compile"
   ]
  },
  {
   "cell_type": "code",
   "execution_count": 9,
   "metadata": {},
   "outputs": [],
   "source": [
    "model = Model([input_img, input_pose], dense2)\n",
    "model.compile(optimizer='adam', loss=euclidean_dist)"
   ]
  },
  {
   "cell_type": "markdown",
   "metadata": {},
   "source": [
    "### Callback"
   ]
  },
  {
   "cell_type": "code",
   "execution_count": 10,
   "metadata": {},
   "outputs": [],
   "source": [
    "tbCallBack = TensorBoard(log_dir='./log',\n",
    "                         histogram_freq=0,\n",
    "                         write_graph=True,\n",
    "                         write_images=True)"
   ]
  },
  {
   "cell_type": "markdown",
   "metadata": {},
   "source": [
    "### Train"
   ]
  },
  {
   "cell_type": "code",
   "execution_count": 11,
   "metadata": {},
   "outputs": [
    {
     "name": "stdout",
     "output_type": "stream",
     "text": [
      "Train on 149560 samples, validate on 64098 samples\n",
      "Epoch 1/3\n",
      "149560/149560 [==============================] - 533s 4ms/step - loss: 2325.2116 - val_loss: 23.0804\n",
      "Epoch 2/3\n",
      "149560/149560 [==============================] - 543s 4ms/step - loss: 31.7360 - val_loss: 9.2443\n",
      "Epoch 3/3\n",
      "149560/149560 [==============================] - 551s 4ms/step - loss: 4.2522 - val_loss: 6.9708\n"
     ]
    },
    {
     "data": {
      "text/plain": [
       "<keras.callbacks.History at 0x1196d1c88>"
      ]
     },
     "execution_count": 11,
     "metadata": {},
     "output_type": "execute_result"
    }
   ],
   "source": [
    "model.fit(x=[IMG, POSE], y=GAZE,\n",
    "          batch_size=1000,\n",
    "          shuffle=True,\n",
    "          epochs=3,\n",
    "          validation_split=0.3,\n",
    "          callbacks=[tbCallBack])"
   ]
  },
  {
   "cell_type": "code",
   "execution_count": null,
   "metadata": {},
   "outputs": [],
   "source": []
  }
 ],
 "metadata": {
  "hide_input": false,
  "kernelspec": {
   "display_name": "Python 3",
   "language": "python",
   "name": "python3"
  },
  "language_info": {
   "codemirror_mode": {
    "name": "ipython",
    "version": 3
   },
   "file_extension": ".py",
   "mimetype": "text/x-python",
   "name": "python",
   "nbconvert_exporter": "python",
   "pygments_lexer": "ipython3",
   "version": "3.6.3"
  }
 },
 "nbformat": 4,
 "nbformat_minor": 2
}
